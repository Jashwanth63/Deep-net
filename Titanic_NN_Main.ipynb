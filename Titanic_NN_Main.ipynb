{
  "nbformat": 4,
  "nbformat_minor": 0,
  "metadata": {
    "colab": {
      "name": "Titanic_NN_Main.ipynb",
      "provenance": [],
      "collapsed_sections": [],
      "include_colab_link": true
    },
    "language_info": {
      "codemirror_mode": {
        "name": "ipython",
        "version": 3
      },
      "file_extension": ".py",
      "mimetype": "text/x-python",
      "name": "python",
      "nbconvert_exporter": "python",
      "pygments_lexer": "ipython3",
      "version": "3.7.3"
    },
    "kernelspec": {
      "name": "python3",
      "display_name": "Python 3"
    },
    "accelerator": "GPU"
  },
  "cells": [
    {
      "cell_type": "markdown",
      "metadata": {
        "id": "view-in-github",
        "colab_type": "text"
      },
      "source": [
        "<a href=\"https://colab.research.google.com/github/Jashwanth63/Deep-net/blob/master/Titanic_NN_Main.ipynb\" target=\"_parent\"><img src=\"https://colab.research.google.com/assets/colab-badge.svg\" alt=\"Open In Colab\"/></a>"
      ]
    },
    {
      "cell_type": "code",
      "metadata": {
        "id": "k97Epdtwwaru",
        "colab_type": "code",
        "colab": {}
      },
      "source": [
        "import pandas as pd\n",
        "import numpy as np\n",
        "import matplotlib.pyplot as plt\n",
        "%matplotlib inline\n"
      ],
      "execution_count": 0,
      "outputs": []
    },
    {
      "cell_type": "code",
      "metadata": {
        "id": "UANPAFdUwar1",
        "colab_type": "code",
        "colab": {}
      },
      "source": [
        "url = 'https://raw.githubusercontent.com/jasuams/datasets/master/titanic.csv'\n",
        "df = pd.read_csv(url)"
      ],
      "execution_count": 0,
      "outputs": []
    },
    {
      "cell_type": "code",
      "metadata": {
        "id": "tGkC-84Iwar7",
        "colab_type": "code",
        "outputId": "ce72d029-ae4d-4a80-9367-a04ad1283eb4",
        "colab": {
          "base_uri": "https://localhost:8080/",
          "height": 206
        }
      },
      "source": [
        "df.head()"
      ],
      "execution_count": 0,
      "outputs": [
        {
          "output_type": "execute_result",
          "data": {
            "text/html": [
              "<div>\n",
              "<style scoped>\n",
              "    .dataframe tbody tr th:only-of-type {\n",
              "        vertical-align: middle;\n",
              "    }\n",
              "\n",
              "    .dataframe tbody tr th {\n",
              "        vertical-align: top;\n",
              "    }\n",
              "\n",
              "    .dataframe thead th {\n",
              "        text-align: right;\n",
              "    }\n",
              "</style>\n",
              "<table border=\"1\" class=\"dataframe\">\n",
              "  <thead>\n",
              "    <tr style=\"text-align: right;\">\n",
              "      <th></th>\n",
              "      <th>survived</th>\n",
              "      <th>pclass</th>\n",
              "      <th>sex</th>\n",
              "      <th>age</th>\n",
              "      <th>sibsp</th>\n",
              "      <th>parch</th>\n",
              "      <th>fare</th>\n",
              "      <th>embarked</th>\n",
              "      <th>class</th>\n",
              "      <th>who</th>\n",
              "      <th>adult_male</th>\n",
              "      <th>deck</th>\n",
              "      <th>embark_town</th>\n",
              "      <th>alive</th>\n",
              "      <th>alone</th>\n",
              "    </tr>\n",
              "  </thead>\n",
              "  <tbody>\n",
              "    <tr>\n",
              "      <th>0</th>\n",
              "      <td>0</td>\n",
              "      <td>3</td>\n",
              "      <td>male</td>\n",
              "      <td>22.0</td>\n",
              "      <td>1</td>\n",
              "      <td>0</td>\n",
              "      <td>7.2500</td>\n",
              "      <td>S</td>\n",
              "      <td>Third</td>\n",
              "      <td>man</td>\n",
              "      <td>True</td>\n",
              "      <td>NaN</td>\n",
              "      <td>Southampton</td>\n",
              "      <td>no</td>\n",
              "      <td>False</td>\n",
              "    </tr>\n",
              "    <tr>\n",
              "      <th>1</th>\n",
              "      <td>1</td>\n",
              "      <td>1</td>\n",
              "      <td>female</td>\n",
              "      <td>38.0</td>\n",
              "      <td>1</td>\n",
              "      <td>0</td>\n",
              "      <td>71.2833</td>\n",
              "      <td>C</td>\n",
              "      <td>First</td>\n",
              "      <td>woman</td>\n",
              "      <td>False</td>\n",
              "      <td>C</td>\n",
              "      <td>Cherbourg</td>\n",
              "      <td>yes</td>\n",
              "      <td>False</td>\n",
              "    </tr>\n",
              "    <tr>\n",
              "      <th>2</th>\n",
              "      <td>1</td>\n",
              "      <td>3</td>\n",
              "      <td>female</td>\n",
              "      <td>26.0</td>\n",
              "      <td>0</td>\n",
              "      <td>0</td>\n",
              "      <td>7.9250</td>\n",
              "      <td>S</td>\n",
              "      <td>Third</td>\n",
              "      <td>woman</td>\n",
              "      <td>False</td>\n",
              "      <td>NaN</td>\n",
              "      <td>Southampton</td>\n",
              "      <td>yes</td>\n",
              "      <td>True</td>\n",
              "    </tr>\n",
              "    <tr>\n",
              "      <th>3</th>\n",
              "      <td>1</td>\n",
              "      <td>1</td>\n",
              "      <td>female</td>\n",
              "      <td>35.0</td>\n",
              "      <td>1</td>\n",
              "      <td>0</td>\n",
              "      <td>53.1000</td>\n",
              "      <td>S</td>\n",
              "      <td>First</td>\n",
              "      <td>woman</td>\n",
              "      <td>False</td>\n",
              "      <td>C</td>\n",
              "      <td>Southampton</td>\n",
              "      <td>yes</td>\n",
              "      <td>False</td>\n",
              "    </tr>\n",
              "    <tr>\n",
              "      <th>4</th>\n",
              "      <td>0</td>\n",
              "      <td>3</td>\n",
              "      <td>male</td>\n",
              "      <td>35.0</td>\n",
              "      <td>0</td>\n",
              "      <td>0</td>\n",
              "      <td>8.0500</td>\n",
              "      <td>S</td>\n",
              "      <td>Third</td>\n",
              "      <td>man</td>\n",
              "      <td>True</td>\n",
              "      <td>NaN</td>\n",
              "      <td>Southampton</td>\n",
              "      <td>no</td>\n",
              "      <td>True</td>\n",
              "    </tr>\n",
              "  </tbody>\n",
              "</table>\n",
              "</div>"
            ],
            "text/plain": [
              "   survived  pclass     sex   age  ...  deck  embark_town  alive  alone\n",
              "0         0       3    male  22.0  ...   NaN  Southampton     no  False\n",
              "1         1       1  female  38.0  ...     C    Cherbourg    yes  False\n",
              "2         1       3  female  26.0  ...   NaN  Southampton    yes   True\n",
              "3         1       1  female  35.0  ...     C  Southampton    yes  False\n",
              "4         0       3    male  35.0  ...   NaN  Southampton     no   True\n",
              "\n",
              "[5 rows x 15 columns]"
            ]
          },
          "metadata": {
            "tags": []
          },
          "execution_count": 17
        }
      ]
    },
    {
      "cell_type": "code",
      "metadata": {
        "id": "wYgXJnNOwasE",
        "colab_type": "code",
        "colab": {}
      },
      "source": [
        "useful_data = df[['survived','pclass','sex','age','sibsp','parch','fare','class']]"
      ],
      "execution_count": 0,
      "outputs": []
    },
    {
      "cell_type": "code",
      "metadata": {
        "id": "n7cf-WMQwasJ",
        "colab_type": "code",
        "outputId": "8f5c7840-d21b-4771-a8ed-95e2a36d6de6",
        "colab": {
          "base_uri": "https://localhost:8080/",
          "height": 206
        }
      },
      "source": [
        "useful_data.head()"
      ],
      "execution_count": 0,
      "outputs": [
        {
          "output_type": "execute_result",
          "data": {
            "text/html": [
              "<div>\n",
              "<style scoped>\n",
              "    .dataframe tbody tr th:only-of-type {\n",
              "        vertical-align: middle;\n",
              "    }\n",
              "\n",
              "    .dataframe tbody tr th {\n",
              "        vertical-align: top;\n",
              "    }\n",
              "\n",
              "    .dataframe thead th {\n",
              "        text-align: right;\n",
              "    }\n",
              "</style>\n",
              "<table border=\"1\" class=\"dataframe\">\n",
              "  <thead>\n",
              "    <tr style=\"text-align: right;\">\n",
              "      <th></th>\n",
              "      <th>survived</th>\n",
              "      <th>pclass</th>\n",
              "      <th>sex</th>\n",
              "      <th>age</th>\n",
              "      <th>sibsp</th>\n",
              "      <th>parch</th>\n",
              "      <th>fare</th>\n",
              "      <th>class</th>\n",
              "    </tr>\n",
              "  </thead>\n",
              "  <tbody>\n",
              "    <tr>\n",
              "      <th>0</th>\n",
              "      <td>0</td>\n",
              "      <td>3</td>\n",
              "      <td>male</td>\n",
              "      <td>22.0</td>\n",
              "      <td>1</td>\n",
              "      <td>0</td>\n",
              "      <td>7.2500</td>\n",
              "      <td>Third</td>\n",
              "    </tr>\n",
              "    <tr>\n",
              "      <th>1</th>\n",
              "      <td>1</td>\n",
              "      <td>1</td>\n",
              "      <td>female</td>\n",
              "      <td>38.0</td>\n",
              "      <td>1</td>\n",
              "      <td>0</td>\n",
              "      <td>71.2833</td>\n",
              "      <td>First</td>\n",
              "    </tr>\n",
              "    <tr>\n",
              "      <th>2</th>\n",
              "      <td>1</td>\n",
              "      <td>3</td>\n",
              "      <td>female</td>\n",
              "      <td>26.0</td>\n",
              "      <td>0</td>\n",
              "      <td>0</td>\n",
              "      <td>7.9250</td>\n",
              "      <td>Third</td>\n",
              "    </tr>\n",
              "    <tr>\n",
              "      <th>3</th>\n",
              "      <td>1</td>\n",
              "      <td>1</td>\n",
              "      <td>female</td>\n",
              "      <td>35.0</td>\n",
              "      <td>1</td>\n",
              "      <td>0</td>\n",
              "      <td>53.1000</td>\n",
              "      <td>First</td>\n",
              "    </tr>\n",
              "    <tr>\n",
              "      <th>4</th>\n",
              "      <td>0</td>\n",
              "      <td>3</td>\n",
              "      <td>male</td>\n",
              "      <td>35.0</td>\n",
              "      <td>0</td>\n",
              "      <td>0</td>\n",
              "      <td>8.0500</td>\n",
              "      <td>Third</td>\n",
              "    </tr>\n",
              "  </tbody>\n",
              "</table>\n",
              "</div>"
            ],
            "text/plain": [
              "   survived  pclass     sex   age  sibsp  parch     fare  class\n",
              "0         0       3    male  22.0      1      0   7.2500  Third\n",
              "1         1       1  female  38.0      1      0  71.2833  First\n",
              "2         1       3  female  26.0      0      0   7.9250  Third\n",
              "3         1       1  female  35.0      1      0  53.1000  First\n",
              "4         0       3    male  35.0      0      0   8.0500  Third"
            ]
          },
          "metadata": {
            "tags": []
          },
          "execution_count": 19
        }
      ]
    },
    {
      "cell_type": "code",
      "metadata": {
        "id": "rvzrntY9wasQ",
        "colab_type": "code",
        "colab": {}
      },
      "source": [
        ""
      ],
      "execution_count": 0,
      "outputs": []
    },
    {
      "cell_type": "code",
      "metadata": {
        "id": "ggkAXFOkwasU",
        "colab_type": "code",
        "outputId": "7665a9d7-bf4d-4f29-dc75-d525c9b16426",
        "colab": {
          "base_uri": "https://localhost:8080/",
          "height": 121
        }
      },
      "source": [
        "sex = {'male':2,'female':1}\n",
        "clas = {'First':1,'Second':2,'Third':3}\n",
        "useful_data.sex = [sex[item] for item in useful_data.sex]\n"
      ],
      "execution_count": 0,
      "outputs": [
        {
          "output_type": "stream",
          "text": [
            "/usr/local/lib/python3.6/dist-packages/pandas/core/generic.py:5208: SettingWithCopyWarning: \n",
            "A value is trying to be set on a copy of a slice from a DataFrame.\n",
            "Try using .loc[row_indexer,col_indexer] = value instead\n",
            "\n",
            "See the caveats in the documentation: http://pandas.pydata.org/pandas-docs/stable/user_guide/indexing.html#returning-a-view-versus-a-copy\n",
            "  self[name] = value\n"
          ],
          "name": "stderr"
        }
      ]
    },
    {
      "cell_type": "code",
      "metadata": {
        "id": "a-zG0aTywasZ",
        "colab_type": "code",
        "outputId": "e5644a25-e047-43ae-f0ad-e3c18a905eb3",
        "colab": {
          "base_uri": "https://localhost:8080/",
          "height": 121
        }
      },
      "source": [
        "useful_data.columns = ['survived','pclass','sex','age','sibsp','parch','fare','Type']\n",
        "useful_data.Type = [clas[item] for item in useful_data.Type]"
      ],
      "execution_count": 0,
      "outputs": [
        {
          "output_type": "stream",
          "text": [
            "/usr/local/lib/python3.6/dist-packages/pandas/core/generic.py:5208: SettingWithCopyWarning: \n",
            "A value is trying to be set on a copy of a slice from a DataFrame.\n",
            "Try using .loc[row_indexer,col_indexer] = value instead\n",
            "\n",
            "See the caveats in the documentation: http://pandas.pydata.org/pandas-docs/stable/user_guide/indexing.html#returning-a-view-versus-a-copy\n",
            "  self[name] = value\n"
          ],
          "name": "stderr"
        }
      ]
    },
    {
      "cell_type": "code",
      "metadata": {
        "id": "EDOCDzrhwasd",
        "colab_type": "code",
        "outputId": "1cba0d03-3508-486c-a0b8-060dca79ffc6",
        "colab": {
          "base_uri": "https://localhost:8080/",
          "height": 34
        }
      },
      "source": [
        "#useful_data.Type = [clas[item] for item in useful_data.Type]\n",
        "useful_data = useful_data.dropna(axis = 0)\n",
        "data_to_process = useful_data\n",
        "data_to_process = data_to_process.values\n",
        "data_to_process = data_to_process.astype('float32')\n",
        "print(data_to_process.shape)"
      ],
      "execution_count": 0,
      "outputs": [
        {
          "output_type": "stream",
          "text": [
            "(714, 8)\n"
          ],
          "name": "stdout"
        }
      ]
    },
    {
      "cell_type": "code",
      "metadata": {
        "id": "NHtKw-JZwast",
        "colab_type": "code",
        "colab": {}
      },
      "source": [
        "X = data_to_process[: ,1:]\n",
        "Y = data_to_process[: ,0]\n",
        "#print(Y)"
      ],
      "execution_count": 0,
      "outputs": []
    },
    {
      "cell_type": "code",
      "metadata": {
        "id": "nug-pgfYwatC",
        "colab_type": "code",
        "colab": {}
      },
      "source": [
        "from keras.models import Sequential\n",
        "from keras.layers import Dense, Activation, Dropout\n",
        "from sklearn.model_selection import train_test_split"
      ],
      "execution_count": 0,
      "outputs": []
    },
    {
      "cell_type": "code",
      "metadata": {
        "id": "x31ryq1AwatK",
        "colab_type": "code",
        "colab": {}
      },
      "source": [
        "x_train, x_test, y_train, y_test = train_test_split(X,Y)"
      ],
      "execution_count": 0,
      "outputs": []
    },
    {
      "cell_type": "code",
      "metadata": {
        "id": "AEggU5VIwatV",
        "colab_type": "code",
        "outputId": "279c2e7b-eb49-4440-9a60-6a5e82b66e5f",
        "colab": {
          "base_uri": "https://localhost:8080/",
          "height": 86
        }
      },
      "source": [
        "print(\"X _train: {}\".format(x_train.shape))\n",
        "print(\"Y_train: {}\".format(y_train.shape))\n",
        "\n",
        "print(\"X _test: {}\".format(x_test.shape))\n",
        "print(\"Y_test: {}\".format(y_test.shape))"
      ],
      "execution_count": 0,
      "outputs": [
        {
          "output_type": "stream",
          "text": [
            "X _train: (535, 7)\n",
            "Y_train: (535,)\n",
            "X _test: (179, 7)\n",
            "Y_test: (179,)\n"
          ],
          "name": "stdout"
        }
      ]
    },
    {
      "cell_type": "code",
      "metadata": {
        "id": "Xpe3KiKUwatl",
        "colab_type": "code",
        "colab": {}
      },
      "source": [
        "model = Sequential()\n",
        "\n",
        "#model.add(Activation('softmax'))\n",
        "model.add(Dropout(0.25))\n",
        "\n",
        "model.add(Dense(1026, input_shape =(7, )))\n",
        "model.add(Activation('hard_sigmoid'))\n",
        "\n",
        "#model.add(Dense(512, activation = 'hard_sigmoid'))\n",
        "#model.add(Dropout(0.30))\n",
        "\n",
        "model.add(Dense(1))\n",
        "model.add(Activation('hard_sigmoid'))\n",
        "model.add(Dropout(0.5))"
      ],
      "execution_count": 0,
      "outputs": []
    },
    {
      "cell_type": "code",
      "metadata": {
        "id": "itDPg1Tuwat3",
        "colab_type": "code",
        "outputId": "9e954eea-b8cc-4722-935a-1e47854648c9",
        "colab": {
          "base_uri": "https://localhost:8080/",
          "height": 1000
        }
      },
      "source": [
        "model.compile(optimizer = 'adam', loss = 'binary_crossentropy', metrics = ['accuracy'])\n",
        "model.fit(x_train, y_train, validation_data = (x_test,y_test), epochs=100, verbose=1 )"
      ],
      "execution_count": 0,
      "outputs": [
        {
          "output_type": "stream",
          "text": [
            "Train on 535 samples, validate on 179 samples\n",
            "Epoch 1/100\n",
            "535/535 [==============================] - 0s 756us/step - loss: 4.4609 - acc: 0.5009 - val_loss: 0.6555 - val_acc: 0.6145\n",
            "Epoch 2/100\n",
            "535/535 [==============================] - 0s 184us/step - loss: 3.6728 - acc: 0.5439 - val_loss: 0.8595 - val_acc: 0.6145\n",
            "Epoch 3/100\n",
            "535/535 [==============================] - 0s 164us/step - loss: 3.5548 - acc: 0.5944 - val_loss: 0.6593 - val_acc: 0.6145\n",
            "Epoch 4/100\n",
            "535/535 [==============================] - 0s 172us/step - loss: 3.5206 - acc: 0.6093 - val_loss: 0.7229 - val_acc: 0.6145\n",
            "Epoch 5/100\n",
            "535/535 [==============================] - 0s 174us/step - loss: 3.1711 - acc: 0.6187 - val_loss: 0.6734 - val_acc: 0.6145\n",
            "Epoch 6/100\n",
            "535/535 [==============================] - 0s 183us/step - loss: 3.8412 - acc: 0.6075 - val_loss: 0.7025 - val_acc: 0.6145\n",
            "Epoch 7/100\n",
            "535/535 [==============================] - 0s 192us/step - loss: 3.4795 - acc: 0.6318 - val_loss: 0.6712 - val_acc: 0.6145\n",
            "Epoch 8/100\n",
            "535/535 [==============================] - 0s 166us/step - loss: 3.7254 - acc: 0.6243 - val_loss: 0.7128 - val_acc: 0.6145\n",
            "Epoch 9/100\n",
            "535/535 [==============================] - 0s 186us/step - loss: 3.5998 - acc: 0.6131 - val_loss: 0.6859 - val_acc: 0.6145\n",
            "Epoch 10/100\n",
            "535/535 [==============================] - 0s 220us/step - loss: 3.5129 - acc: 0.6224 - val_loss: 0.6788 - val_acc: 0.6145\n",
            "Epoch 11/100\n",
            "535/535 [==============================] - 0s 188us/step - loss: 3.7334 - acc: 0.6299 - val_loss: 0.6936 - val_acc: 0.6145\n",
            "Epoch 12/100\n",
            "535/535 [==============================] - 0s 199us/step - loss: 3.5427 - acc: 0.6131 - val_loss: 0.6310 - val_acc: 0.6201\n",
            "Epoch 13/100\n",
            "535/535 [==============================] - 0s 180us/step - loss: 4.1320 - acc: 0.6019 - val_loss: 0.7515 - val_acc: 0.6145\n",
            "Epoch 14/100\n",
            "535/535 [==============================] - 0s 165us/step - loss: 3.4897 - acc: 0.6187 - val_loss: 0.6934 - val_acc: 0.6145\n",
            "Epoch 15/100\n",
            "535/535 [==============================] - 0s 175us/step - loss: 3.4299 - acc: 0.6411 - val_loss: 0.6820 - val_acc: 0.6145\n",
            "Epoch 16/100\n",
            "535/535 [==============================] - 0s 179us/step - loss: 3.6940 - acc: 0.6187 - val_loss: 0.6535 - val_acc: 0.6145\n",
            "Epoch 17/100\n",
            "535/535 [==============================] - 0s 173us/step - loss: 3.4401 - acc: 0.6056 - val_loss: 0.6771 - val_acc: 0.6145\n",
            "Epoch 18/100\n",
            "535/535 [==============================] - 0s 175us/step - loss: 3.8144 - acc: 0.6019 - val_loss: 0.8273 - val_acc: 0.6145\n",
            "Epoch 19/100\n",
            "535/535 [==============================] - 0s 170us/step - loss: 3.5659 - acc: 0.5682 - val_loss: 0.7794 - val_acc: 0.6145\n",
            "Epoch 20/100\n",
            "535/535 [==============================] - 0s 183us/step - loss: 3.7955 - acc: 0.6056 - val_loss: 0.6374 - val_acc: 0.6145\n",
            "Epoch 21/100\n",
            "535/535 [==============================] - 0s 199us/step - loss: 3.8787 - acc: 0.6075 - val_loss: 0.6719 - val_acc: 0.6145\n",
            "Epoch 22/100\n",
            "535/535 [==============================] - 0s 204us/step - loss: 4.1635 - acc: 0.6093 - val_loss: 0.8478 - val_acc: 0.6145\n",
            "Epoch 23/100\n",
            "535/535 [==============================] - 0s 193us/step - loss: 3.7377 - acc: 0.6206 - val_loss: 0.6830 - val_acc: 0.6145\n",
            "Epoch 24/100\n",
            "535/535 [==============================] - 0s 203us/step - loss: 3.4376 - acc: 0.6187 - val_loss: 0.6437 - val_acc: 0.6145\n",
            "Epoch 25/100\n",
            "535/535 [==============================] - 0s 191us/step - loss: 4.0865 - acc: 0.6056 - val_loss: 0.6640 - val_acc: 0.6145\n",
            "Epoch 26/100\n",
            "535/535 [==============================] - 0s 223us/step - loss: 3.4566 - acc: 0.6393 - val_loss: 0.6969 - val_acc: 0.6145\n",
            "Epoch 27/100\n",
            "535/535 [==============================] - 0s 201us/step - loss: 3.9350 - acc: 0.6206 - val_loss: 0.6672 - val_acc: 0.6145\n",
            "Epoch 28/100\n",
            "535/535 [==============================] - 0s 170us/step - loss: 3.7896 - acc: 0.6336 - val_loss: 0.8025 - val_acc: 0.6145\n",
            "Epoch 29/100\n",
            "535/535 [==============================] - 0s 175us/step - loss: 2.9769 - acc: 0.6598 - val_loss: 0.6107 - val_acc: 0.6145\n",
            "Epoch 30/100\n",
            "535/535 [==============================] - 0s 179us/step - loss: 3.5190 - acc: 0.6318 - val_loss: 0.6904 - val_acc: 0.6145\n",
            "Epoch 31/100\n",
            "535/535 [==============================] - 0s 174us/step - loss: 3.5973 - acc: 0.6393 - val_loss: 0.7211 - val_acc: 0.6145\n",
            "Epoch 32/100\n",
            "535/535 [==============================] - 0s 198us/step - loss: 3.5263 - acc: 0.6318 - val_loss: 0.6612 - val_acc: 0.6145\n",
            "Epoch 33/100\n",
            "535/535 [==============================] - 0s 177us/step - loss: 3.7095 - acc: 0.6355 - val_loss: 0.6626 - val_acc: 0.6145\n",
            "Epoch 34/100\n",
            "535/535 [==============================] - 0s 172us/step - loss: 3.9047 - acc: 0.6318 - val_loss: 0.6488 - val_acc: 0.6145\n",
            "Epoch 35/100\n",
            "535/535 [==============================] - 0s 172us/step - loss: 3.7460 - acc: 0.6393 - val_loss: 0.6763 - val_acc: 0.6145\n",
            "Epoch 36/100\n",
            "535/535 [==============================] - 0s 173us/step - loss: 3.5880 - acc: 0.6318 - val_loss: 0.6524 - val_acc: 0.6145\n",
            "Epoch 37/100\n",
            "535/535 [==============================] - 0s 193us/step - loss: 3.5030 - acc: 0.6318 - val_loss: 0.6353 - val_acc: 0.6145\n",
            "Epoch 38/100\n",
            "535/535 [==============================] - 0s 212us/step - loss: 3.4786 - acc: 0.6318 - val_loss: 0.6786 - val_acc: 0.6145\n",
            "Epoch 39/100\n",
            "535/535 [==============================] - 0s 171us/step - loss: 3.8167 - acc: 0.6131 - val_loss: 0.6710 - val_acc: 0.6145\n",
            "Epoch 40/100\n",
            "535/535 [==============================] - 0s 161us/step - loss: 3.5638 - acc: 0.6112 - val_loss: 0.6599 - val_acc: 0.6145\n",
            "Epoch 41/100\n",
            "535/535 [==============================] - 0s 184us/step - loss: 3.4252 - acc: 0.6280 - val_loss: 0.6381 - val_acc: 0.6145\n",
            "Epoch 42/100\n",
            "535/535 [==============================] - 0s 201us/step - loss: 3.6077 - acc: 0.6280 - val_loss: 0.7422 - val_acc: 0.6145\n",
            "Epoch 43/100\n",
            "535/535 [==============================] - 0s 174us/step - loss: 3.7793 - acc: 0.6000 - val_loss: 0.7272 - val_acc: 0.6145\n",
            "Epoch 44/100\n",
            "535/535 [==============================] - 0s 162us/step - loss: 3.6124 - acc: 0.6336 - val_loss: 0.6233 - val_acc: 0.6257\n",
            "Epoch 45/100\n",
            "535/535 [==============================] - 0s 163us/step - loss: 3.5526 - acc: 0.6393 - val_loss: 0.6380 - val_acc: 0.6145\n",
            "Epoch 46/100\n",
            "535/535 [==============================] - 0s 180us/step - loss: 3.7861 - acc: 0.5981 - val_loss: 0.6722 - val_acc: 0.6145\n",
            "Epoch 47/100\n",
            "535/535 [==============================] - 0s 175us/step - loss: 3.6110 - acc: 0.6336 - val_loss: 0.7106 - val_acc: 0.6145\n",
            "Epoch 48/100\n",
            "535/535 [==============================] - 0s 183us/step - loss: 3.7672 - acc: 0.6430 - val_loss: 0.6480 - val_acc: 0.6145\n",
            "Epoch 49/100\n",
            "535/535 [==============================] - 0s 173us/step - loss: 3.5116 - acc: 0.6355 - val_loss: 0.6998 - val_acc: 0.6145\n",
            "Epoch 50/100\n",
            "535/535 [==============================] - 0s 169us/step - loss: 3.6469 - acc: 0.6037 - val_loss: 0.7019 - val_acc: 0.6145\n",
            "Epoch 51/100\n",
            "535/535 [==============================] - 0s 184us/step - loss: 3.4356 - acc: 0.6467 - val_loss: 0.6933 - val_acc: 0.6145\n",
            "Epoch 52/100\n",
            "535/535 [==============================] - 0s 191us/step - loss: 3.6611 - acc: 0.6000 - val_loss: 0.6901 - val_acc: 0.6145\n",
            "Epoch 53/100\n",
            "535/535 [==============================] - 0s 190us/step - loss: 3.7738 - acc: 0.6019 - val_loss: 0.6522 - val_acc: 0.6872\n",
            "Epoch 54/100\n",
            "535/535 [==============================] - 0s 163us/step - loss: 4.9096 - acc: 0.5664 - val_loss: 1.5163 - val_acc: 0.6313\n",
            "Epoch 55/100\n",
            "535/535 [==============================] - 0s 167us/step - loss: 4.5108 - acc: 0.6037 - val_loss: 0.8760 - val_acc: 0.6201\n",
            "Epoch 56/100\n",
            "535/535 [==============================] - 0s 164us/step - loss: 3.6550 - acc: 0.6318 - val_loss: 0.6837 - val_acc: 0.6145\n",
            "Epoch 57/100\n",
            "535/535 [==============================] - 0s 191us/step - loss: 3.3261 - acc: 0.6168 - val_loss: 0.6697 - val_acc: 0.6145\n",
            "Epoch 58/100\n",
            "535/535 [==============================] - 0s 173us/step - loss: 3.4234 - acc: 0.6561 - val_loss: 0.6569 - val_acc: 0.6145\n",
            "Epoch 59/100\n",
            "535/535 [==============================] - 0s 179us/step - loss: 3.4056 - acc: 0.6374 - val_loss: 0.7210 - val_acc: 0.6145\n",
            "Epoch 60/100\n",
            "535/535 [==============================] - 0s 184us/step - loss: 3.4202 - acc: 0.6262 - val_loss: 0.6374 - val_acc: 0.6201\n",
            "Epoch 61/100\n",
            "535/535 [==============================] - 0s 184us/step - loss: 3.4711 - acc: 0.6430 - val_loss: 0.6266 - val_acc: 0.6201\n",
            "Epoch 62/100\n",
            "535/535 [==============================] - 0s 184us/step - loss: 3.7946 - acc: 0.6374 - val_loss: 0.7097 - val_acc: 0.6145\n",
            "Epoch 63/100\n",
            "535/535 [==============================] - 0s 213us/step - loss: 3.8352 - acc: 0.6262 - val_loss: 0.6892 - val_acc: 0.6145\n",
            "Epoch 64/100\n",
            "535/535 [==============================] - 0s 166us/step - loss: 3.5130 - acc: 0.6224 - val_loss: 0.6496 - val_acc: 0.6145\n",
            "Epoch 65/100\n",
            "535/535 [==============================] - 0s 206us/step - loss: 3.5249 - acc: 0.6206 - val_loss: 0.6183 - val_acc: 0.6145\n",
            "Epoch 66/100\n",
            "535/535 [==============================] - 0s 184us/step - loss: 3.8694 - acc: 0.6187 - val_loss: 0.6525 - val_acc: 0.6145\n",
            "Epoch 67/100\n",
            "535/535 [==============================] - 0s 183us/step - loss: 3.3572 - acc: 0.6542 - val_loss: 0.7364 - val_acc: 0.6145\n",
            "Epoch 68/100\n",
            "535/535 [==============================] - 0s 180us/step - loss: 3.8889 - acc: 0.6131 - val_loss: 0.6352 - val_acc: 0.6145\n",
            "Epoch 69/100\n",
            "535/535 [==============================] - 0s 204us/step - loss: 3.6910 - acc: 0.6262 - val_loss: 0.6092 - val_acc: 0.6089\n",
            "Epoch 70/100\n",
            "535/535 [==============================] - 0s 168us/step - loss: 3.8039 - acc: 0.6037 - val_loss: 0.6809 - val_acc: 0.6145\n",
            "Epoch 71/100\n",
            "535/535 [==============================] - 0s 174us/step - loss: 3.5134 - acc: 0.6299 - val_loss: 0.6526 - val_acc: 0.6145\n",
            "Epoch 72/100\n",
            "535/535 [==============================] - 0s 179us/step - loss: 3.9339 - acc: 0.6355 - val_loss: 0.7383 - val_acc: 0.6145\n",
            "Epoch 73/100\n",
            "535/535 [==============================] - 0s 175us/step - loss: 3.9639 - acc: 0.6187 - val_loss: 0.7059 - val_acc: 0.6145\n",
            "Epoch 74/100\n",
            "535/535 [==============================] - 0s 195us/step - loss: 3.6506 - acc: 0.6299 - val_loss: 0.6505 - val_acc: 0.6145\n",
            "Epoch 75/100\n",
            "535/535 [==============================] - 0s 165us/step - loss: 3.2090 - acc: 0.6542 - val_loss: 0.6674 - val_acc: 0.6145\n",
            "Epoch 76/100\n",
            "535/535 [==============================] - 0s 178us/step - loss: 3.8229 - acc: 0.6224 - val_loss: 0.6582 - val_acc: 0.6145\n",
            "Epoch 77/100\n",
            "535/535 [==============================] - 0s 189us/step - loss: 3.7551 - acc: 0.6318 - val_loss: 0.7040 - val_acc: 0.6145\n",
            "Epoch 78/100\n",
            "535/535 [==============================] - 0s 186us/step - loss: 3.9568 - acc: 0.6280 - val_loss: 0.6645 - val_acc: 0.6145\n",
            "Epoch 79/100\n",
            "535/535 [==============================] - 0s 182us/step - loss: 3.7881 - acc: 0.6280 - val_loss: 0.6690 - val_acc: 0.6145\n",
            "Epoch 80/100\n",
            "535/535 [==============================] - 0s 192us/step - loss: 3.9238 - acc: 0.6318 - val_loss: 0.6009 - val_acc: 0.6313\n",
            "Epoch 81/100\n",
            "535/535 [==============================] - 0s 174us/step - loss: 3.7767 - acc: 0.6056 - val_loss: 0.6793 - val_acc: 0.6145\n",
            "Epoch 82/100\n",
            "535/535 [==============================] - 0s 166us/step - loss: 3.1910 - acc: 0.6318 - val_loss: 0.6433 - val_acc: 0.6145\n",
            "Epoch 83/100\n",
            "535/535 [==============================] - 0s 175us/step - loss: 3.6380 - acc: 0.6224 - val_loss: 0.6725 - val_acc: 0.6145\n",
            "Epoch 84/100\n",
            "535/535 [==============================] - 0s 213us/step - loss: 3.6899 - acc: 0.6112 - val_loss: 0.7095 - val_acc: 0.6145\n",
            "Epoch 85/100\n",
            "535/535 [==============================] - 0s 186us/step - loss: 3.8384 - acc: 0.6262 - val_loss: 0.6035 - val_acc: 0.6313\n",
            "Epoch 86/100\n",
            "535/535 [==============================] - 0s 177us/step - loss: 3.7666 - acc: 0.6224 - val_loss: 0.6513 - val_acc: 0.6145\n",
            "Epoch 87/100\n",
            "535/535 [==============================] - 0s 183us/step - loss: 3.4312 - acc: 0.6243 - val_loss: 0.6723 - val_acc: 0.6145\n",
            "Epoch 88/100\n",
            "535/535 [==============================] - 0s 172us/step - loss: 3.4521 - acc: 0.6561 - val_loss: 0.6715 - val_acc: 0.6145\n",
            "Epoch 89/100\n",
            "535/535 [==============================] - 0s 184us/step - loss: 3.4174 - acc: 0.6486 - val_loss: 0.6548 - val_acc: 0.6313\n",
            "Epoch 90/100\n",
            "535/535 [==============================] - 0s 189us/step - loss: 3.3133 - acc: 0.6056 - val_loss: 0.6994 - val_acc: 0.6145\n",
            "Epoch 91/100\n",
            "535/535 [==============================] - 0s 172us/step - loss: 3.5915 - acc: 0.6318 - val_loss: 0.6504 - val_acc: 0.6145\n",
            "Epoch 92/100\n",
            "535/535 [==============================] - 0s 163us/step - loss: 3.3738 - acc: 0.6729 - val_loss: 0.6332 - val_acc: 0.6145\n",
            "Epoch 93/100\n",
            "535/535 [==============================] - 0s 174us/step - loss: 3.8658 - acc: 0.6280 - val_loss: 0.6085 - val_acc: 0.6257\n",
            "Epoch 94/100\n",
            "535/535 [==============================] - 0s 191us/step - loss: 5.8083 - acc: 0.6056 - val_loss: 6.1486 - val_acc: 0.6145\n",
            "Epoch 95/100\n",
            "535/535 [==============================] - 0s 191us/step - loss: 6.3145 - acc: 0.5850 - val_loss: 6.2131 - val_acc: 0.6145\n",
            "Epoch 96/100\n",
            "535/535 [==============================] - 0s 187us/step - loss: 6.4704 - acc: 0.5570 - val_loss: 4.7340 - val_acc: 0.3575\n",
            "Epoch 97/100\n",
            "535/535 [==============================] - 0s 186us/step - loss: 7.7365 - acc: 0.3925 - val_loss: 8.6747 - val_acc: 0.4022\n",
            "Epoch 98/100\n",
            "535/535 [==============================] - 0s 165us/step - loss: 7.2049 - acc: 0.3907 - val_loss: 6.4935 - val_acc: 0.3575\n",
            "Epoch 99/100\n",
            "535/535 [==============================] - 0s 203us/step - loss: 7.8950 - acc: 0.4224 - val_loss: 5.7106 - val_acc: 0.4022\n",
            "Epoch 100/100\n",
            "535/535 [==============================] - 0s 174us/step - loss: 7.4321 - acc: 0.4505 - val_loss: 5.1770 - val_acc: 0.5307\n"
          ],
          "name": "stdout"
        },
        {
          "output_type": "execute_result",
          "data": {
            "text/plain": [
              "<keras.callbacks.History at 0x7f56806ab400>"
            ]
          },
          "metadata": {
            "tags": []
          },
          "execution_count": 28
        }
      ]
    },
    {
      "cell_type": "code",
      "metadata": {
        "id": "MX3vShC3wawp",
        "colab_type": "code",
        "colab": {}
      },
      "source": [
        ""
      ],
      "execution_count": 0,
      "outputs": []
    }
  ]
}