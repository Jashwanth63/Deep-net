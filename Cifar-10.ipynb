{
 "cells": [
  {
   "cell_type": "markdown",
   "metadata": {},
   "source": [
    "# CIFAR-10 Image Classification Using Keras"
   ]
  },
  {
   "cell_type": "code",
   "execution_count": 9,
   "metadata": {},
   "outputs": [],
   "source": [
    "from keras.datasets import cifar10\n",
    "from keras.models import Sequential\n",
    "from keras.layers import Dense, Activation, Dropout, Convolution2D, Flatten, MaxPooling2D\n",
    "from keras.utils import np_utils\n",
    "import numpy as np\n",
    "import matplotlib.pyplot as plt\n",
    "%matplotlib inline\n",
    "import cv2 as cv"
   ]
  },
  {
   "cell_type": "code",
   "execution_count": 10,
   "metadata": {},
   "outputs": [],
   "source": [
    "(x_train, y_train), (x_test, y_test)= cifar10.load_data()\n"
   ]
  },
  {
   "cell_type": "code",
   "execution_count": 11,
   "metadata": {},
   "outputs": [
    {
     "name": "stdout",
     "output_type": "stream",
     "text": [
      "X_train: (50000, 32, 32, 3)\n",
      "Y_train: (50000, 1)\n",
      "X_test: (10000, 32, 32, 3)\n",
      "Y_test: (10000, 1)\n"
     ]
    }
   ],
   "source": [
    "print(\"X_train: {}\".format(x_train.shape))\n",
    "print(\"Y_train: {}\".format(y_train.shape))\n",
    "print(\"X_test: {}\".format(x_test.shape))\n",
    "print(\"Y_test: {}\".format(y_test.shape))"
   ]
  },
  {
   "cell_type": "code",
   "execution_count": 12,
   "metadata": {},
   "outputs": [],
   "source": [
    "Y_train = np_utils.to_categorical(y_train)\n",
    "Y_test = np_utils.to_categorical(y_test)"
   ]
  },
  {
   "cell_type": "code",
   "execution_count": 13,
   "metadata": {},
   "outputs": [
    {
     "name": "stdout",
     "output_type": "stream",
     "text": [
      "Y_train: (50000, 10)\n",
      "Y_test: (10000, 10)\n"
     ]
    }
   ],
   "source": [
    "\n",
    "print(\"Y_train: {}\".format(Y_train.shape))\n",
    "print(\"Y_test: {}\".format(Y_test.shape))\n"
   ]
  },
  {
   "cell_type": "markdown",
   "metadata": {},
   "source": [
    "# Convert RGB to Grayscale"
   ]
  },
  {
   "cell_type": "code",
   "execution_count": 14,
   "metadata": {},
   "outputs": [],
   "source": [
    "X_train = np.zeros((x_train.shape[0],32,32,1))\n",
    "X_test = np.zeros(((x_test.shape[0],32,32,1)))\n",
    "for i in range(x_train.shape[0]):\n",
    "    img = x_train[i]\n",
    "    gray_img = np.reshape(cv.cvtColor(img, cv.COLOR_BGR2GRAY), (32,32,1))\n",
    "    X_train[i] = gray_img\n",
    "for i in range(x_test.shape[0]):\n",
    "    img = x_test[i]\n",
    "    gray_img = np.reshape(cv.cvtColor(img, cv.COLOR_BGR2GRAY), (32,32,1))\n",
    "    X_test[i] = gray_img\n",
    "\n",
    "X_train /= 255\n",
    "X_test /= 255"
   ]
  },
  {
   "cell_type": "markdown",
   "metadata": {},
   "source": [
    "# Apply Convolution"
   ]
  },
  {
   "cell_type": "code",
   "execution_count": 15,
   "metadata": {},
   "outputs": [
    {
     "name": "stdout",
     "output_type": "stream",
     "text": [
      "_________________________________________________________________\n",
      "Layer (type)                 Output Shape              Param #   \n",
      "=================================================================\n",
      "conv2d_4 (Conv2D)            (None, 30, 30, 32)        320       \n",
      "_________________________________________________________________\n",
      "activation_7 (Activation)    (None, 30, 30, 32)        0         \n",
      "_________________________________________________________________\n",
      "conv2d_5 (Conv2D)            (None, 28, 28, 64)        18496     \n",
      "_________________________________________________________________\n",
      "activation_8 (Activation)    (None, 28, 28, 64)        0         \n",
      "_________________________________________________________________\n",
      "max_pooling2d_2 (MaxPooling2 (None, 14, 14, 64)        0         \n",
      "_________________________________________________________________\n",
      "conv2d_6 (Conv2D)            (None, 11, 11, 24)        24600     \n",
      "_________________________________________________________________\n",
      "activation_9 (Activation)    (None, 11, 11, 24)        0         \n",
      "_________________________________________________________________\n",
      "flatten_2 (Flatten)          (None, 2904)              0         \n",
      "_________________________________________________________________\n",
      "dropout_2 (Dropout)          (None, 2904)              0         \n",
      "_________________________________________________________________\n",
      "dense_4 (Dense)              (None, 512)               1487360   \n",
      "_________________________________________________________________\n",
      "activation_10 (Activation)   (None, 512)               0         \n",
      "_________________________________________________________________\n",
      "dropout_3 (Dropout)          (None, 512)               0         \n",
      "_________________________________________________________________\n",
      "dense_5 (Dense)              (None, 256)               131328    \n",
      "_________________________________________________________________\n",
      "activation_11 (Activation)   (None, 256)               0         \n",
      "_________________________________________________________________\n",
      "dense_6 (Dense)              (None, 10)                2570      \n",
      "_________________________________________________________________\n",
      "activation_12 (Activation)   (None, 10)                0         \n",
      "=================================================================\n",
      "Total params: 1,664,674\n",
      "Trainable params: 1,664,674\n",
      "Non-trainable params: 0\n",
      "_________________________________________________________________\n"
     ]
    },
    {
     "name": "stderr",
     "output_type": "stream",
     "text": [
      "C:\\Users\\jasua\\Anaconda3\\envs\\ML\\lib\\site-packages\\ipykernel_launcher.py:3: UserWarning: Update your `Conv2D` call to the Keras 2 API: `Conv2D(32, (3, 3), input_shape=(32, 32, 1...)`\n",
      "  This is separate from the ipykernel package so we can avoid doing imports until\n",
      "C:\\Users\\jasua\\Anaconda3\\envs\\ML\\lib\\site-packages\\ipykernel_launcher.py:6: UserWarning: Update your `Conv2D` call to the Keras 2 API: `Conv2D(64, (3, 3))`\n",
      "  \n",
      "C:\\Users\\jasua\\Anaconda3\\envs\\ML\\lib\\site-packages\\ipykernel_launcher.py:11: UserWarning: Update your `Conv2D` call to the Keras 2 API: `Conv2D(24, (4, 4))`\n",
      "  # This is added back by InteractiveShellApp.init_path()\n"
     ]
    }
   ],
   "source": [
    "model = Sequential()\n",
    "#(32,32,1)\n",
    "model.add(Convolution2D(32,3,3, input_shape = (32,32,1)))\n",
    "model.add(Activation('relu'))\n",
    "#(30,30,32)\n",
    "model.add(Convolution2D(64,3,3))\n",
    "model.add(Activation('relu'))\n",
    "#(28,28,64)\n",
    "model.add(MaxPooling2D(pool_size = (2,2)))\n",
    "#(14,14,64)\n",
    "model.add(Convolution2D(24,4,4))\n",
    "model.add(Activation('relu'))\n",
    "#(11,11,24)\n",
    "model.add(Flatten())\n",
    "\n",
    "model.add(Dropout(0.40))\n",
    "model.add(Dense(512))\n",
    "model.add(Activation('relu'))\n",
    "\n",
    "model.add(Dropout(0.25))\n",
    "model.add(Dense(256))\n",
    "model.add(Activation('relu'))\n",
    "\n",
    "\n",
    "model.add(Dense(10))\n",
    "model.add(Activation('softmax'))\n",
    "\n",
    "model.summary()"
   ]
  },
  {
   "cell_type": "code",
   "execution_count": null,
   "metadata": {},
   "outputs": [
    {
     "name": "stdout",
     "output_type": "stream",
     "text": [
      "Train on 50000 samples, validate on 10000 samples\n",
      "Epoch 1/50\n",
      "50000/50000 [==============================] - 13s 251us/step - loss: 1.7184 - acc: 0.3737 - val_loss: 1.3831 - val_acc: 0.5062\n",
      "Epoch 2/50\n",
      "50000/50000 [==============================] - 12s 237us/step - loss: 1.3390 - acc: 0.5272 - val_loss: 1.1755 - val_acc: 0.5866\n",
      "Epoch 3/50\n",
      "50000/50000 [==============================] - 12s 238us/step - loss: 1.1456 - acc: 0.5969 - val_loss: 1.0110 - val_acc: 0.6383\n",
      "Epoch 4/50\n",
      "50000/50000 [==============================] - 12s 240us/step - loss: 1.0073 - acc: 0.6477 - val_loss: 0.9274 - val_acc: 0.6705\n",
      "Epoch 5/50\n",
      "50000/50000 [==============================] - 12s 246us/step - loss: 0.9151 - acc: 0.6812 - val_loss: 0.8851 - val_acc: 0.6937\n",
      "Epoch 6/50\n",
      "50000/50000 [==============================] - 14s 270us/step - loss: 0.8449 - acc: 0.7037 - val_loss: 0.8693 - val_acc: 0.7017\n",
      "Epoch 7/50\n",
      "50000/50000 [==============================] - 14s 277us/step - loss: 0.7890 - acc: 0.7252 - val_loss: 0.8284 - val_acc: 0.7152\n",
      "Epoch 8/50\n",
      "50000/50000 [==============================] - 14s 285us/step - loss: 0.7431 - acc: 0.7382 - val_loss: 0.8066 - val_acc: 0.7244\n",
      "Epoch 9/50\n",
      "50000/50000 [==============================] - 14s 275us/step - loss: 0.7084 - acc: 0.7506 - val_loss: 0.8075 - val_acc: 0.7212\n",
      "Epoch 10/50\n",
      "50000/50000 [==============================] - 14s 275us/step - loss: 0.6602 - acc: 0.7645 - val_loss: 0.8012 - val_acc: 0.7256\n",
      "Epoch 11/50\n",
      "50000/50000 [==============================] - 14s 277us/step - loss: 0.6215 - acc: 0.7815 - val_loss: 0.7897 - val_acc: 0.7295\n",
      "Epoch 12/50\n",
      "50000/50000 [==============================] - 14s 277us/step - loss: 0.5853 - acc: 0.7927 - val_loss: 0.7932 - val_acc: 0.7300\n",
      "Epoch 13/50\n",
      "50000/50000 [==============================] - 14s 276us/step - loss: 0.5574 - acc: 0.8022 - val_loss: 0.7958 - val_acc: 0.7328\n",
      "Epoch 14/50\n",
      "50000/50000 [==============================] - 14s 275us/step - loss: 0.5227 - acc: 0.8131 - val_loss: 0.7957 - val_acc: 0.7340\n",
      "Epoch 15/50\n",
      "50000/50000 [==============================] - 14s 276us/step - loss: 0.5013 - acc: 0.8213 - val_loss: 0.8422 - val_acc: 0.7227\n",
      "Epoch 16/50\n",
      "50000/50000 [==============================] - 14s 276us/step - loss: 0.4684 - acc: 0.8323 - val_loss: 0.8302 - val_acc: 0.7330\n",
      "Epoch 17/50\n",
      "50000/50000 [==============================] - 14s 277us/step - loss: 0.4513 - acc: 0.8406 - val_loss: 0.8228 - val_acc: 0.7349\n",
      "Epoch 18/50\n",
      "50000/50000 [==============================] - 14s 274us/step - loss: 0.4254 - acc: 0.8473 - val_loss: 0.8337 - val_acc: 0.7305\n",
      "Epoch 19/50\n",
      "50000/50000 [==============================] - 14s 272us/step - loss: 0.4122 - acc: 0.8540 - val_loss: 0.8697 - val_acc: 0.7213\n",
      "Epoch 20/50\n",
      "50000/50000 [==============================] - 13s 270us/step - loss: 0.3902 - acc: 0.8615 - val_loss: 0.8694 - val_acc: 0.7318\n",
      "Epoch 21/50\n",
      "50000/50000 [==============================] - 14s 271us/step - loss: 0.3797 - acc: 0.8653 - val_loss: 0.8450 - val_acc: 0.7304\n",
      "Epoch 22/50\n",
      "46900/50000 [===========================>..] - ETA: 0s - loss: 0.3675 - acc: 0.8705"
     ]
    }
   ],
   "source": [
    "model.compile(optimizer = \"adam\", loss = \"categorical_crossentropy\", metrics = ['accuracy'])\n",
    "model.fit(X_train, Y_train, validation_data = (X_test, Y_test), epochs=50, verbose=1, batch_size =100)"
   ]
  },
  {
   "cell_type": "code",
   "execution_count": null,
   "metadata": {},
   "outputs": [],
   "source": []
  },
  {
   "cell_type": "code",
   "execution_count": null,
   "metadata": {},
   "outputs": [],
   "source": []
  },
  {
   "cell_type": "code",
   "execution_count": null,
   "metadata": {},
   "outputs": [],
   "source": []
  }
 ],
 "metadata": {
  "kernelspec": {
   "display_name": "Python 3",
   "language": "python",
   "name": "python3"
  },
  "language_info": {
   "codemirror_mode": {
    "name": "ipython",
    "version": 3
   },
   "file_extension": ".py",
   "mimetype": "text/x-python",
   "name": "python",
   "nbconvert_exporter": "python",
   "pygments_lexer": "ipython3",
   "version": "3.7.1"
  }
 },
 "nbformat": 4,
 "nbformat_minor": 2
}
