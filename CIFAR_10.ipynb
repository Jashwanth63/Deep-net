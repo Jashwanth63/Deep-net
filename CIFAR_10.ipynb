{
  "nbformat": 4,
  "nbformat_minor": 0,
  "metadata": {
    "colab": {
      "name": "CIFAR-10.ipynb",
      "provenance": [],
      "collapsed_sections": [],
      "include_colab_link": true
    },
    "language_info": {
      "codemirror_mode": {
        "name": "ipython",
        "version": 3
      },
      "file_extension": ".py",
      "mimetype": "text/x-python",
      "name": "python",
      "nbconvert_exporter": "python",
      "pygments_lexer": "ipython3",
      "version": "3.7.3"
    },
    "kernelspec": {
      "name": "python3",
      "display_name": "Python 3"
    },
    "accelerator": "GPU"
  },
  "cells": [
    {
      "cell_type": "markdown",
      "metadata": {
        "id": "view-in-github",
        "colab_type": "text"
      },
      "source": [
        "<a href=\"https://colab.research.google.com/github/Jashwanth63/Deep-net/blob/master/CIFAR_10.ipynb\" target=\"_parent\"><img src=\"https://colab.research.google.com/assets/colab-badge.svg\" alt=\"Open In Colab\"/></a>"
      ]
    },
    {
      "cell_type": "code",
      "metadata": {
        "id": "-sKO4yZarkCZ",
        "colab_type": "code",
        "outputId": "5f35fd29-0cb4-452e-a59d-cac3619fd4df",
        "colab": {
          "base_uri": "https://localhost:8080/",
          "height": 34
        }
      },
      "source": [
        "import numpy as np\n",
        "import matplotlib.pyplot as plt\n",
        "from keras.datasets import cifar10\n",
        "from keras.models import Sequential\n",
        "from keras.utils import np_utils\n",
        "from keras.layers import Dense, Flatten, Activation, Dropout\n",
        "from keras.layers import Convolution2D, MaxPooling2D"
      ],
      "execution_count": 0,
      "outputs": [
        {
          "output_type": "stream",
          "text": [
            "Using TensorFlow backend.\n"
          ],
          "name": "stderr"
        }
      ]
    },
    {
      "cell_type": "code",
      "metadata": {
        "id": "HDbTITWkrkDr",
        "colab_type": "code",
        "outputId": "8da1bc8b-bb5a-4ddb-a901-f42e510b6479",
        "colab": {
          "base_uri": "https://localhost:8080/",
          "height": 51
        }
      },
      "source": [
        "(x_train, y_train), (x_test,y_test) = cifar10.load_data()"
      ],
      "execution_count": 0,
      "outputs": [
        {
          "output_type": "stream",
          "text": [
            "Downloading data from https://www.cs.toronto.edu/~kriz/cifar-10-python.tar.gz\n",
            "170500096/170498071 [==============================] - 2s 0us/step\n"
          ],
          "name": "stdout"
        }
      ]
    },
    {
      "cell_type": "code",
      "metadata": {
        "id": "kV1KUwY7rkEa",
        "colab_type": "code",
        "outputId": "2e98b325-4082-4264-9a19-3edfb078abf9",
        "colab": {
          "base_uri": "https://localhost:8080/",
          "height": 86
        }
      },
      "source": [
        "print(\"X Train Shape: {}\".format(x_train.shape))\n",
        "print(\"Y Train Shape: {}\".format(y_train.shape))\n",
        "\n",
        "print(\"X test Shape: {}\".format(x_test.shape))\n",
        "print(\"Y test shape: {}\".format(y_test.shape))"
      ],
      "execution_count": 0,
      "outputs": [
        {
          "output_type": "stream",
          "text": [
            "X Train Shape: (50000, 32, 32, 3)\n",
            "Y Train Shape: (50000, 1)\n",
            "X test Shape: (10000, 32, 32, 3)\n",
            "Y test shape: (10000, 1)\n"
          ],
          "name": "stdout"
        }
      ]
    },
    {
      "cell_type": "code",
      "metadata": {
        "id": "EHr3o5P0rkGk",
        "colab_type": "code",
        "outputId": "1bd506d5-ffac-435a-a98a-8acd5d3ba0fc",
        "colab": {
          "base_uri": "https://localhost:8080/",
          "height": 51
        }
      },
      "source": [
        "Y_train = np_utils.to_categorical(y_train)\n",
        "Y_test = np_utils.to_categorical(y_test)\n",
        "print(\"Y Train shape: {}\".format(Y_train.shape))\n",
        "print(\"Y Test shape: {}\".format(Y_test.shape))"
      ],
      "execution_count": 0,
      "outputs": [
        {
          "output_type": "stream",
          "text": [
            "Y Train shape: (50000, 10)\n",
            "Y Test shape: (10000, 10)\n"
          ],
          "name": "stdout"
        }
      ]
    },
    {
      "cell_type": "code",
      "metadata": {
        "id": "2h-Hnc1NrkHj",
        "colab_type": "code",
        "colab": {}
      },
      "source": [
        "#X_train_min = x_train[0:25000]\n",
        "#Y_train_min = Y_train[0:25000]\n",
        "#print(X_train_min.shape)\n",
        "#print(Y_train_min.shape)\n"
      ],
      "execution_count": 0,
      "outputs": []
    },
    {
      "cell_type": "code",
      "metadata": {
        "id": "hR3UPIwprkId",
        "colab_type": "code",
        "outputId": "ada034cd-ab98-4127-fa30-33128e20125a",
        "colab": {
          "base_uri": "https://localhost:8080/",
          "height": 1000
        }
      },
      "source": [
        "model = Sequential()\n",
        "model.add(Convolution2D(64,3,3, input_shape=(32,32,3)) )\n",
        "model.add(Activation('relu'))\n",
        "#(29,29,64)\n",
        "\n",
        "model.add(Convolution2D(64,3,3) )\n",
        "model.add(Activation('relu') )\n",
        "#(27,27,64)\n",
        "\n",
        "\n",
        "model.add(Convolution2D(32,3,3))\n",
        "model.add(Activation('relu'))\n",
        "#(25,25,32)\n",
        "\n",
        "\n",
        "#model.add(Dropout(0.1))\n",
        "model.add(MaxPooling2D(pool_size = (2,2)))\n",
        "model.add(Activation('relu'))\n",
        "#(14,14,32)\n",
        "\n",
        "model.add(Convolution2D(64,3,3) )\n",
        "model.add(Activation('relu') )\n",
        "#(12,12,64)\n",
        "\n",
        "\n",
        "model.add(Convolution2D(64,3,3))\n",
        "model.add(Activation('relu'))\n",
        "#(10,10,64)\n",
        "\n",
        "model.add(Dropout(0.1))\n",
        "model.add(MaxPooling2D(pool_size = (2,2)))\n",
        "model.add(Activation('relu'))\n",
        "#(5,5,64)\n",
        "\n",
        "model.add(Flatten())\n",
        "#(5*5*64)\n",
        "model.add(Dropout(0.25))\n",
        "model.add(Dense(1024))\n",
        "model.add(Activation('relu'))\n",
        "model.add(Dropout(0.5))\n",
        "model.add(Dense(10))\n",
        "model.add(Activation('softmax'))\n",
        "\n",
        "model.summary()"
      ],
      "execution_count": 0,
      "outputs": [
        {
          "output_type": "stream",
          "text": [
            "WARNING: Logging before flag parsing goes to stderr.\n",
            "W0630 15:08:56.907431 140195883349888 deprecation_wrapper.py:119] From /usr/local/lib/python3.6/dist-packages/keras/backend/tensorflow_backend.py:74: The name tf.get_default_graph is deprecated. Please use tf.compat.v1.get_default_graph instead.\n",
            "\n",
            "/usr/local/lib/python3.6/dist-packages/ipykernel_launcher.py:2: UserWarning: Update your `Conv2D` call to the Keras 2 API: `Conv2D(64, (3, 3), input_shape=(32, 32, 3...)`\n",
            "  \n",
            "W0630 15:08:56.940175 140195883349888 deprecation_wrapper.py:119] From /usr/local/lib/python3.6/dist-packages/keras/backend/tensorflow_backend.py:517: The name tf.placeholder is deprecated. Please use tf.compat.v1.placeholder instead.\n",
            "\n",
            "W0630 15:08:56.946515 140195883349888 deprecation_wrapper.py:119] From /usr/local/lib/python3.6/dist-packages/keras/backend/tensorflow_backend.py:4138: The name tf.random_uniform is deprecated. Please use tf.random.uniform instead.\n",
            "\n",
            "/usr/local/lib/python3.6/dist-packages/ipykernel_launcher.py:6: UserWarning: Update your `Conv2D` call to the Keras 2 API: `Conv2D(64, (3, 3))`\n",
            "  \n",
            "/usr/local/lib/python3.6/dist-packages/ipykernel_launcher.py:11: UserWarning: Update your `Conv2D` call to the Keras 2 API: `Conv2D(32, (3, 3))`\n",
            "  # This is added back by InteractiveShellApp.init_path()\n",
            "W0630 15:08:56.997359 140195883349888 deprecation_wrapper.py:119] From /usr/local/lib/python3.6/dist-packages/keras/backend/tensorflow_backend.py:3976: The name tf.nn.max_pool is deprecated. Please use tf.nn.max_pool2d instead.\n",
            "\n",
            "/usr/local/lib/python3.6/dist-packages/ipykernel_launcher.py:21: UserWarning: Update your `Conv2D` call to the Keras 2 API: `Conv2D(64, (3, 3))`\n",
            "/usr/local/lib/python3.6/dist-packages/ipykernel_launcher.py:26: UserWarning: Update your `Conv2D` call to the Keras 2 API: `Conv2D(64, (3, 3))`\n",
            "W0630 15:08:57.027111 140195883349888 deprecation_wrapper.py:119] From /usr/local/lib/python3.6/dist-packages/keras/backend/tensorflow_backend.py:133: The name tf.placeholder_with_default is deprecated. Please use tf.compat.v1.placeholder_with_default instead.\n",
            "\n",
            "W0630 15:08:57.036031 140195883349888 deprecation.py:506] From /usr/local/lib/python3.6/dist-packages/keras/backend/tensorflow_backend.py:3445: calling dropout (from tensorflow.python.ops.nn_ops) with keep_prob is deprecated and will be removed in a future version.\n",
            "Instructions for updating:\n",
            "Please use `rate` instead of `keep_prob`. Rate should be set to `rate = 1 - keep_prob`.\n"
          ],
          "name": "stderr"
        },
        {
          "output_type": "stream",
          "text": [
            "_________________________________________________________________\n",
            "Layer (type)                 Output Shape              Param #   \n",
            "=================================================================\n",
            "conv2d_1 (Conv2D)            (None, 30, 30, 64)        1792      \n",
            "_________________________________________________________________\n",
            "activation_1 (Activation)    (None, 30, 30, 64)        0         \n",
            "_________________________________________________________________\n",
            "conv2d_2 (Conv2D)            (None, 28, 28, 64)        36928     \n",
            "_________________________________________________________________\n",
            "activation_2 (Activation)    (None, 28, 28, 64)        0         \n",
            "_________________________________________________________________\n",
            "conv2d_3 (Conv2D)            (None, 26, 26, 32)        18464     \n",
            "_________________________________________________________________\n",
            "activation_3 (Activation)    (None, 26, 26, 32)        0         \n",
            "_________________________________________________________________\n",
            "max_pooling2d_1 (MaxPooling2 (None, 13, 13, 32)        0         \n",
            "_________________________________________________________________\n",
            "activation_4 (Activation)    (None, 13, 13, 32)        0         \n",
            "_________________________________________________________________\n",
            "conv2d_4 (Conv2D)            (None, 11, 11, 64)        18496     \n",
            "_________________________________________________________________\n",
            "activation_5 (Activation)    (None, 11, 11, 64)        0         \n",
            "_________________________________________________________________\n",
            "conv2d_5 (Conv2D)            (None, 9, 9, 64)          36928     \n",
            "_________________________________________________________________\n",
            "activation_6 (Activation)    (None, 9, 9, 64)          0         \n",
            "_________________________________________________________________\n",
            "dropout_1 (Dropout)          (None, 9, 9, 64)          0         \n",
            "_________________________________________________________________\n",
            "max_pooling2d_2 (MaxPooling2 (None, 4, 4, 64)          0         \n",
            "_________________________________________________________________\n",
            "activation_7 (Activation)    (None, 4, 4, 64)          0         \n",
            "_________________________________________________________________\n",
            "flatten_1 (Flatten)          (None, 1024)              0         \n",
            "_________________________________________________________________\n",
            "dropout_2 (Dropout)          (None, 1024)              0         \n",
            "_________________________________________________________________\n",
            "dense_1 (Dense)              (None, 1024)              1049600   \n",
            "_________________________________________________________________\n",
            "activation_8 (Activation)    (None, 1024)              0         \n",
            "_________________________________________________________________\n",
            "dropout_3 (Dropout)          (None, 1024)              0         \n",
            "_________________________________________________________________\n",
            "dense_2 (Dense)              (None, 10)                10250     \n",
            "_________________________________________________________________\n",
            "activation_9 (Activation)    (None, 10)                0         \n",
            "=================================================================\n",
            "Total params: 1,172,458\n",
            "Trainable params: 1,172,458\n",
            "Non-trainable params: 0\n",
            "_________________________________________________________________\n"
          ],
          "name": "stdout"
        }
      ]
    },
    {
      "cell_type": "code",
      "metadata": {
        "id": "Vv4UFI-2rkJa",
        "colab_type": "code",
        "outputId": "9f066ebf-e79a-4271-de96-aaf3f823fe9d",
        "colab": {
          "base_uri": "https://localhost:8080/",
          "height": 106
        }
      },
      "source": [
        "model.compile(optimizer='adam' , loss ='categorical_crossentropy' , metrics = ['accuracy']) "
      ],
      "execution_count": 0,
      "outputs": [
        {
          "output_type": "stream",
          "text": [
            "W0630 15:08:57.132692 140195883349888 deprecation_wrapper.py:119] From /usr/local/lib/python3.6/dist-packages/keras/optimizers.py:790: The name tf.train.Optimizer is deprecated. Please use tf.compat.v1.train.Optimizer instead.\n",
            "\n",
            "W0630 15:08:57.158724 140195883349888 deprecation_wrapper.py:119] From /usr/local/lib/python3.6/dist-packages/keras/backend/tensorflow_backend.py:3295: The name tf.log is deprecated. Please use tf.math.log instead.\n",
            "\n"
          ],
          "name": "stderr"
        }
      ]
    },
    {
      "cell_type": "code",
      "metadata": {
        "id": "MiIg13kdrkKB",
        "colab_type": "code",
        "outputId": "6b1bc3f3-9b3a-4aaf-80fe-2e96a083ad41",
        "colab": {
          "base_uri": "https://localhost:8080/",
          "height": 1000
        }
      },
      "source": [
        "model.fit(x_train, Y_train, validation_data = (x_test,Y_test), nb_epoch=50, verbose = 1)"
      ],
      "execution_count": 0,
      "outputs": [
        {
          "output_type": "stream",
          "text": [
            "/usr/local/lib/python3.6/dist-packages/ipykernel_launcher.py:1: UserWarning: The `nb_epoch` argument in `fit` has been renamed `epochs`.\n",
            "  \"\"\"Entry point for launching an IPython kernel.\n",
            "W0630 15:08:57.286004 140195883349888 deprecation.py:323] From /usr/local/lib/python3.6/dist-packages/tensorflow/python/ops/math_grad.py:1250: add_dispatch_support.<locals>.wrapper (from tensorflow.python.ops.array_ops) is deprecated and will be removed in a future version.\n",
            "Instructions for updating:\n",
            "Use tf.where in 2.0, which has the same broadcast rule as np.where\n"
          ],
          "name": "stderr"
        },
        {
          "output_type": "stream",
          "text": [
            "Train on 50000 samples, validate on 10000 samples\n",
            "Epoch 1/50\n",
            "50000/50000 [==============================] - 21s 418us/step - loss: 1.9614 - acc: 0.3419 - val_loss: 1.4246 - val_acc: 0.4773\n",
            "Epoch 2/50\n",
            "50000/50000 [==============================] - 14s 276us/step - loss: 1.4275 - acc: 0.4865 - val_loss: 1.2990 - val_acc: 0.5391\n",
            "Epoch 3/50\n",
            "50000/50000 [==============================] - 14s 275us/step - loss: 1.2618 - acc: 0.5502 - val_loss: 1.1276 - val_acc: 0.5998\n",
            "Epoch 4/50\n",
            "50000/50000 [==============================] - 14s 277us/step - loss: 1.1657 - acc: 0.5899 - val_loss: 1.1134 - val_acc: 0.6058\n",
            "Epoch 5/50\n",
            "50000/50000 [==============================] - 14s 274us/step - loss: 1.1127 - acc: 0.6092 - val_loss: 1.0548 - val_acc: 0.6234\n",
            "Epoch 6/50\n",
            "50000/50000 [==============================] - 14s 274us/step - loss: 1.0493 - acc: 0.6290 - val_loss: 1.0708 - val_acc: 0.6312\n",
            "Epoch 7/50\n",
            "50000/50000 [==============================] - 14s 274us/step - loss: 1.0113 - acc: 0.6425 - val_loss: 1.0099 - val_acc: 0.6492\n",
            "Epoch 8/50\n",
            "50000/50000 [==============================] - 14s 279us/step - loss: 0.9852 - acc: 0.6561 - val_loss: 1.0409 - val_acc: 0.6401\n",
            "Epoch 9/50\n",
            "50000/50000 [==============================] - 14s 274us/step - loss: 0.9561 - acc: 0.6644 - val_loss: 1.0044 - val_acc: 0.6555\n",
            "Epoch 10/50\n",
            "50000/50000 [==============================] - 14s 276us/step - loss: 0.9322 - acc: 0.6740 - val_loss: 0.9686 - val_acc: 0.6681\n",
            "Epoch 11/50\n",
            "50000/50000 [==============================] - 14s 274us/step - loss: 0.9092 - acc: 0.6823 - val_loss: 0.9753 - val_acc: 0.6578\n",
            "Epoch 12/50\n",
            "50000/50000 [==============================] - 14s 274us/step - loss: 0.8861 - acc: 0.6911 - val_loss: 0.9180 - val_acc: 0.6866\n",
            "Epoch 13/50\n",
            "50000/50000 [==============================] - 14s 273us/step - loss: 0.8744 - acc: 0.6925 - val_loss: 0.9172 - val_acc: 0.6825\n",
            "Epoch 14/50\n",
            "50000/50000 [==============================] - 14s 275us/step - loss: 0.8548 - acc: 0.7020 - val_loss: 0.9236 - val_acc: 0.6829\n",
            "Epoch 15/50\n",
            "50000/50000 [==============================] - 14s 275us/step - loss: 0.8515 - acc: 0.7030 - val_loss: 0.9861 - val_acc: 0.6671\n",
            "Epoch 16/50\n",
            "50000/50000 [==============================] - 14s 275us/step - loss: 0.8280 - acc: 0.7118 - val_loss: 0.9153 - val_acc: 0.6871\n",
            "Epoch 17/50\n",
            "50000/50000 [==============================] - 14s 274us/step - loss: 0.8291 - acc: 0.7146 - val_loss: 0.9333 - val_acc: 0.6778\n",
            "Epoch 18/50\n",
            "50000/50000 [==============================] - 14s 273us/step - loss: 0.8175 - acc: 0.7153 - val_loss: 0.9214 - val_acc: 0.6837\n",
            "Epoch 19/50\n",
            "50000/50000 [==============================] - 14s 273us/step - loss: 0.7977 - acc: 0.7221 - val_loss: 0.9006 - val_acc: 0.6949\n",
            "Epoch 20/50\n",
            "50000/50000 [==============================] - 14s 272us/step - loss: 0.7843 - acc: 0.7264 - val_loss: 0.9321 - val_acc: 0.6784\n",
            "Epoch 21/50\n",
            "50000/50000 [==============================] - 14s 275us/step - loss: 0.7705 - acc: 0.7313 - val_loss: 0.9194 - val_acc: 0.6867\n",
            "Epoch 22/50\n",
            "50000/50000 [==============================] - 14s 274us/step - loss: 0.7737 - acc: 0.7298 - val_loss: 0.9369 - val_acc: 0.6814\n",
            "Epoch 23/50\n",
            "50000/50000 [==============================] - 14s 280us/step - loss: 0.7449 - acc: 0.7386 - val_loss: 0.9094 - val_acc: 0.6899\n",
            "Epoch 24/50\n",
            "50000/50000 [==============================] - 14s 274us/step - loss: 0.7441 - acc: 0.7417 - val_loss: 0.8986 - val_acc: 0.6924\n",
            "Epoch 25/50\n",
            "50000/50000 [==============================] - 14s 275us/step - loss: 0.7434 - acc: 0.7426 - val_loss: 0.9109 - val_acc: 0.6898\n",
            "Epoch 26/50\n",
            "50000/50000 [==============================] - 14s 274us/step - loss: 0.7299 - acc: 0.7463 - val_loss: 0.8892 - val_acc: 0.6990\n",
            "Epoch 27/50\n",
            "50000/50000 [==============================] - 14s 275us/step - loss: 0.7171 - acc: 0.7512 - val_loss: 0.8998 - val_acc: 0.6927\n",
            "Epoch 28/50\n",
            "50000/50000 [==============================] - 14s 286us/step - loss: 0.7133 - acc: 0.7510 - val_loss: 0.9796 - val_acc: 0.6722\n",
            "Epoch 29/50\n",
            "50000/50000 [==============================] - 14s 274us/step - loss: 0.7027 - acc: 0.7541 - val_loss: 0.8908 - val_acc: 0.6949\n",
            "Epoch 30/50\n",
            "50000/50000 [==============================] - 14s 277us/step - loss: 0.7061 - acc: 0.7529 - val_loss: 0.9399 - val_acc: 0.6774\n",
            "Epoch 31/50\n",
            "50000/50000 [==============================] - 14s 275us/step - loss: 0.7040 - acc: 0.7567 - val_loss: 1.0238 - val_acc: 0.6506\n",
            "Epoch 32/50\n",
            "50000/50000 [==============================] - 14s 275us/step - loss: 0.6861 - acc: 0.7610 - val_loss: 0.9067 - val_acc: 0.6954\n",
            "Epoch 33/50\n",
            "50000/50000 [==============================] - 14s 277us/step - loss: 0.6927 - acc: 0.7626 - val_loss: 0.9044 - val_acc: 0.6985\n",
            "Epoch 34/50\n",
            "50000/50000 [==============================] - 14s 275us/step - loss: 0.6893 - acc: 0.7618 - val_loss: 0.9694 - val_acc: 0.6761\n",
            "Epoch 35/50\n",
            "50000/50000 [==============================] - 14s 274us/step - loss: 0.6681 - acc: 0.7671 - val_loss: 0.9159 - val_acc: 0.6923\n",
            "Epoch 36/50\n",
            "50000/50000 [==============================] - 14s 274us/step - loss: 0.6645 - acc: 0.7691 - val_loss: 0.9225 - val_acc: 0.7001\n",
            "Epoch 37/50\n",
            "50000/50000 [==============================] - 14s 275us/step - loss: 0.6678 - acc: 0.7706 - val_loss: 0.9402 - val_acc: 0.6863\n",
            "Epoch 38/50\n",
            "50000/50000 [==============================] - 14s 274us/step - loss: 0.6533 - acc: 0.7740 - val_loss: 0.9288 - val_acc: 0.6906\n",
            "Epoch 39/50\n",
            "50000/50000 [==============================] - 14s 277us/step - loss: 0.6552 - acc: 0.7742 - val_loss: 0.9190 - val_acc: 0.6928\n",
            "Epoch 40/50\n",
            "50000/50000 [==============================] - 14s 275us/step - loss: 0.6624 - acc: 0.7728 - val_loss: 0.9183 - val_acc: 0.6894\n",
            "Epoch 41/50\n",
            "50000/50000 [==============================] - 14s 275us/step - loss: 0.6517 - acc: 0.7758 - val_loss: 0.9398 - val_acc: 0.6840\n",
            "Epoch 42/50\n",
            "50000/50000 [==============================] - 14s 275us/step - loss: 0.6433 - acc: 0.7780 - val_loss: 0.9188 - val_acc: 0.6918\n",
            "Epoch 43/50\n",
            "50000/50000 [==============================] - 14s 276us/step - loss: 0.6370 - acc: 0.7795 - val_loss: 0.9022 - val_acc: 0.6968\n",
            "Epoch 44/50\n",
            "50000/50000 [==============================] - 14s 276us/step - loss: 0.6418 - acc: 0.7783 - val_loss: 0.8856 - val_acc: 0.6989\n",
            "Epoch 45/50\n",
            "50000/50000 [==============================] - 15s 292us/step - loss: 0.6269 - acc: 0.7817 - val_loss: 0.9023 - val_acc: 0.7051\n",
            "Epoch 46/50\n",
            "50000/50000 [==============================] - 14s 282us/step - loss: 0.6238 - acc: 0.7850 - val_loss: 0.8950 - val_acc: 0.6996\n",
            "Epoch 47/50\n",
            "50000/50000 [==============================] - 14s 275us/step - loss: 0.6208 - acc: 0.7885 - val_loss: 0.8999 - val_acc: 0.6964\n",
            "Epoch 48/50\n",
            "50000/50000 [==============================] - 14s 285us/step - loss: 0.6184 - acc: 0.7876 - val_loss: 0.9069 - val_acc: 0.7021\n",
            "Epoch 49/50\n",
            "50000/50000 [==============================] - 15s 297us/step - loss: 0.6122 - acc: 0.7878 - val_loss: 0.9092 - val_acc: 0.6986\n",
            "Epoch 50/50\n",
            "50000/50000 [==============================] - 14s 277us/step - loss: 0.6101 - acc: 0.7892 - val_loss: 0.9672 - val_acc: 0.6812\n"
          ],
          "name": "stdout"
        },
        {
          "output_type": "execute_result",
          "data": {
            "text/plain": [
              "<keras.callbacks.History at 0x7f819b32ea20>"
            ]
          },
          "metadata": {
            "tags": []
          },
          "execution_count": 7
        }
      ]
    },
    {
      "cell_type": "code",
      "metadata": {
        "id": "1sdNcU79woz9",
        "colab_type": "code",
        "colab": {}
      },
      "source": [
        ""
      ],
      "execution_count": 0,
      "outputs": []
    },
    {
      "cell_type": "code",
      "metadata": {
        "id": "FvIHS-UGrkLQ",
        "colab_type": "code",
        "colab": {}
      },
      "source": [
        ""
      ],
      "execution_count": 0,
      "outputs": []
    },
    {
      "cell_type": "code",
      "metadata": {
        "id": "OIrAaEXMrkL_",
        "colab_type": "code",
        "colab": {}
      },
      "source": [
        ""
      ],
      "execution_count": 0,
      "outputs": []
    },
    {
      "cell_type": "code",
      "metadata": {
        "id": "4_rs-0EurkM8",
        "colab_type": "code",
        "colab": {}
      },
      "source": [
        ""
      ],
      "execution_count": 0,
      "outputs": []
    },
    {
      "cell_type": "code",
      "metadata": {
        "id": "c5qo8TNLrkNi",
        "colab_type": "code",
        "colab": {}
      },
      "source": [
        ""
      ],
      "execution_count": 0,
      "outputs": []
    },
    {
      "cell_type": "code",
      "metadata": {
        "id": "G-oXbGHcrkOD",
        "colab_type": "code",
        "colab": {}
      },
      "source": [
        ""
      ],
      "execution_count": 0,
      "outputs": []
    },
    {
      "cell_type": "code",
      "metadata": {
        "id": "OYq2eCyIrkOh",
        "colab_type": "code",
        "colab": {}
      },
      "source": [
        ""
      ],
      "execution_count": 0,
      "outputs": []
    },
    {
      "cell_type": "code",
      "metadata": {
        "id": "hKGWT5OKrkO8",
        "colab_type": "code",
        "colab": {}
      },
      "source": [
        ""
      ],
      "execution_count": 0,
      "outputs": []
    },
    {
      "cell_type": "code",
      "metadata": {
        "id": "DdkuExO8rkPY",
        "colab_type": "code",
        "colab": {}
      },
      "source": [
        ""
      ],
      "execution_count": 0,
      "outputs": []
    },
    {
      "cell_type": "code",
      "metadata": {
        "id": "6nOBs65vrkPy",
        "colab_type": "code",
        "colab": {}
      },
      "source": [
        ""
      ],
      "execution_count": 0,
      "outputs": []
    },
    {
      "cell_type": "code",
      "metadata": {
        "id": "T6kq6FOQrkQg",
        "colab_type": "code",
        "colab": {}
      },
      "source": [
        ""
      ],
      "execution_count": 0,
      "outputs": []
    },
    {
      "cell_type": "code",
      "metadata": {
        "id": "IV5zGHlOrkQ6",
        "colab_type": "code",
        "colab": {}
      },
      "source": [
        ""
      ],
      "execution_count": 0,
      "outputs": []
    },
    {
      "cell_type": "code",
      "metadata": {
        "id": "49NKqM19rkRa",
        "colab_type": "code",
        "colab": {}
      },
      "source": [
        ""
      ],
      "execution_count": 0,
      "outputs": []
    },
    {
      "cell_type": "code",
      "metadata": {
        "id": "DpTWtVUbrkRv",
        "colab_type": "code",
        "colab": {}
      },
      "source": [
        ""
      ],
      "execution_count": 0,
      "outputs": []
    },
    {
      "cell_type": "code",
      "metadata": {
        "id": "-_VdLPD4rkSR",
        "colab_type": "code",
        "colab": {}
      },
      "source": [
        ""
      ],
      "execution_count": 0,
      "outputs": []
    },
    {
      "cell_type": "code",
      "metadata": {
        "id": "nKqnKZTnrkS2",
        "colab_type": "code",
        "colab": {}
      },
      "source": [
        ""
      ],
      "execution_count": 0,
      "outputs": []
    },
    {
      "cell_type": "code",
      "metadata": {
        "id": "G1NZUkRHrkTO",
        "colab_type": "code",
        "colab": {}
      },
      "source": [
        ""
      ],
      "execution_count": 0,
      "outputs": []
    },
    {
      "cell_type": "code",
      "metadata": {
        "id": "ou_lfOlFrkTq",
        "colab_type": "code",
        "colab": {}
      },
      "source": [
        ""
      ],
      "execution_count": 0,
      "outputs": []
    },
    {
      "cell_type": "code",
      "metadata": {
        "id": "nF0xeI3FrkT-",
        "colab_type": "code",
        "colab": {}
      },
      "source": [
        ""
      ],
      "execution_count": 0,
      "outputs": []
    },
    {
      "cell_type": "code",
      "metadata": {
        "id": "1RpysuV0rkUj",
        "colab_type": "code",
        "colab": {}
      },
      "source": [
        ""
      ],
      "execution_count": 0,
      "outputs": []
    },
    {
      "cell_type": "code",
      "metadata": {
        "id": "5M5NYdWUrkU0",
        "colab_type": "code",
        "colab": {}
      },
      "source": [
        ""
      ],
      "execution_count": 0,
      "outputs": []
    },
    {
      "cell_type": "code",
      "metadata": {
        "id": "IQMNSvPLrkVL",
        "colab_type": "code",
        "colab": {}
      },
      "source": [
        ""
      ],
      "execution_count": 0,
      "outputs": []
    },
    {
      "cell_type": "code",
      "metadata": {
        "id": "MCunl4H9rkV2",
        "colab_type": "code",
        "colab": {}
      },
      "source": [
        ""
      ],
      "execution_count": 0,
      "outputs": []
    },
    {
      "cell_type": "code",
      "metadata": {
        "id": "9Q4o4F-urkWN",
        "colab_type": "code",
        "colab": {}
      },
      "source": [
        ""
      ],
      "execution_count": 0,
      "outputs": []
    },
    {
      "cell_type": "code",
      "metadata": {
        "id": "TXEyiMUHrkWe",
        "colab_type": "code",
        "colab": {}
      },
      "source": [
        ""
      ],
      "execution_count": 0,
      "outputs": []
    },
    {
      "cell_type": "code",
      "metadata": {
        "id": "1lNgQigOrkWv",
        "colab_type": "code",
        "colab": {}
      },
      "source": [
        ""
      ],
      "execution_count": 0,
      "outputs": []
    },
    {
      "cell_type": "code",
      "metadata": {
        "id": "cZUQVnyerkW9",
        "colab_type": "code",
        "colab": {}
      },
      "source": [
        ""
      ],
      "execution_count": 0,
      "outputs": []
    },
    {
      "cell_type": "code",
      "metadata": {
        "id": "Qxz3SmjzrkXO",
        "colab_type": "code",
        "colab": {}
      },
      "source": [
        ""
      ],
      "execution_count": 0,
      "outputs": []
    },
    {
      "cell_type": "code",
      "metadata": {
        "id": "hKQJn3lvrkXf",
        "colab_type": "code",
        "colab": {}
      },
      "source": [
        ""
      ],
      "execution_count": 0,
      "outputs": []
    },
    {
      "cell_type": "code",
      "metadata": {
        "id": "8_5vEDEFrkYH",
        "colab_type": "code",
        "colab": {}
      },
      "source": [
        ""
      ],
      "execution_count": 0,
      "outputs": []
    },
    {
      "cell_type": "code",
      "metadata": {
        "id": "XWGQu551rkYn",
        "colab_type": "code",
        "colab": {}
      },
      "source": [
        ""
      ],
      "execution_count": 0,
      "outputs": []
    },
    {
      "cell_type": "code",
      "metadata": {
        "id": "_5umWW5hrkY6",
        "colab_type": "code",
        "colab": {}
      },
      "source": [
        ""
      ],
      "execution_count": 0,
      "outputs": []
    },
    {
      "cell_type": "code",
      "metadata": {
        "id": "dqFlY8ymrkZX",
        "colab_type": "code",
        "colab": {}
      },
      "source": [
        ""
      ],
      "execution_count": 0,
      "outputs": []
    },
    {
      "cell_type": "code",
      "metadata": {
        "id": "4k4s0kPXrkZr",
        "colab_type": "code",
        "colab": {}
      },
      "source": [
        ""
      ],
      "execution_count": 0,
      "outputs": []
    },
    {
      "cell_type": "code",
      "metadata": {
        "id": "dCoWfg78rkZ9",
        "colab_type": "code",
        "colab": {}
      },
      "source": [
        ""
      ],
      "execution_count": 0,
      "outputs": []
    },
    {
      "cell_type": "code",
      "metadata": {
        "id": "D9BwNrK4rkai",
        "colab_type": "code",
        "colab": {}
      },
      "source": [
        ""
      ],
      "execution_count": 0,
      "outputs": []
    },
    {
      "cell_type": "code",
      "metadata": {
        "id": "t5XvGASRrka-",
        "colab_type": "code",
        "colab": {}
      },
      "source": [
        ""
      ],
      "execution_count": 0,
      "outputs": []
    },
    {
      "cell_type": "code",
      "metadata": {
        "id": "R24m5HDdrkbM",
        "colab_type": "code",
        "colab": {}
      },
      "source": [
        ""
      ],
      "execution_count": 0,
      "outputs": []
    }
  ]
}